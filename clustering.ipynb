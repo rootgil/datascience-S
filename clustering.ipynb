{
 "cells": [
  {
   "cell_type": "code",
   "execution_count": 2,
   "id": "d0249fe3",
   "metadata": {},
   "outputs": [
    {
     "name": "stdout",
     "output_type": "stream",
     "text": [
      "3\n",
      "1 0\n",
      "0 .5\n",
      "4 0\n",
      "[0.5  0.25]\n",
      "[4. 0.]\n"
     ]
    }
   ],
   "source": [
    "import math \n",
    "import numpy as np\n",
    "\n",
    "n = int(input()) \n",
    "ce1=[0,0] \n",
    "ce2=[2,2] \n",
    "cl1=np.empty([0,2], float)\n",
    "cl2=np.empty([0,2], float)\n",
    "\n",
    "for i in range(n):\n",
    "    x = [float(j) for j in input().split()]\n",
    "    d21 = (np.array(ce1)-np.array(x))**2\n",
    "    d1=math.sqrt(d21.sum())\n",
    "    d2 = math.sqrt(((np.array(ce2)-np.array(x))**2).sum()) \n",
    "    if d1<=d2:\n",
    "       cl1 = np.append(cl1, np.array([x]), axis=0) \n",
    "    else: \n",
    "       cl2 = np.append(cl2, np.array([x]), axis=0)  \n",
    "\n",
    "if cl1.shape[0]!=0:\n",
    "   print(np.mean(cl1,axis=0).round(2))\n",
    "else:\n",
    "   print(None)\n",
    "if cl2.shape[0]!=0:\n",
    "   print(np.mean(cl2,axis=0).round(2))\n",
    "else:\n",
    "   print(None)"
   ]
  },
  {
   "cell_type": "code",
   "execution_count": null,
   "id": "dc6f8127",
   "metadata": {},
   "outputs": [],
   "source": []
  }
 ],
 "metadata": {
  "kernelspec": {
   "display_name": "Python 3 (ipykernel)",
   "language": "python",
   "name": "python3"
  },
  "language_info": {
   "codemirror_mode": {
    "name": "ipython",
    "version": 3
   },
   "file_extension": ".py",
   "mimetype": "text/x-python",
   "name": "python",
   "nbconvert_exporter": "python",
   "pygments_lexer": "ipython3",
   "version": "3.10.5"
  }
 },
 "nbformat": 4,
 "nbformat_minor": 5
}
