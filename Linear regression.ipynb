{
 "cells": [
  {
   "cell_type": "markdown",
   "id": "e1388b3a",
   "metadata": {},
   "source": [
    "## Ordinary Squares"
   ]
  },
  {
   "cell_type": "code",
   "execution_count": 1,
   "id": "c5b8e696",
   "metadata": {},
   "outputs": [
    {
     "name": "stdout",
     "output_type": "stream",
     "text": [
      "2 2\n",
      "1 1\n",
      " 4 2\n",
      "2 3\n",
      "[-0.5  2.5]\n"
     ]
    }
   ],
   "source": [
    "import numpy as np\n",
    "n, p = [int(x) for x in input().split()]\n",
    "X = []\n",
    "for i in range(n):\n",
    "    X.append([float(x) for x in input().split()])\n",
    "\n",
    "y = [float(x) for x in input().split()]\n",
    "\n",
    "X=np.array(X).reshape(n,p)\n",
    "y=np.array(y)\n",
    "b=np.linalg.pinv(X) @ y.transpose() \n",
    "print(np.around(b,decimals=2))"
   ]
  },
  {
   "cell_type": "code",
   "execution_count": null,
   "id": "1e0bac64",
   "metadata": {},
   "outputs": [],
   "source": []
  }
 ],
 "metadata": {
  "kernelspec": {
   "display_name": "Python 3 (ipykernel)",
   "language": "python",
   "name": "python3"
  },
  "language_info": {
   "codemirror_mode": {
    "name": "ipython",
    "version": 3
   },
   "file_extension": ".py",
   "mimetype": "text/x-python",
   "name": "python",
   "nbconvert_exporter": "python",
   "pygments_lexer": "ipython3",
   "version": "3.10.5"
  }
 },
 "nbformat": 4,
 "nbformat_minor": 5
}
