{
 "cells": [
  {
   "cell_type": "markdown",
   "id": "c77e1ff4",
   "metadata": {},
   "source": [
    "## Redimensionner une liste"
   ]
  },
  {
   "cell_type": "code",
   "execution_count": 2,
   "id": "e8fc4488",
   "metadata": {},
   "outputs": [],
   "source": [
    "import pandas as pd\n",
    "import numpy as np"
   ]
  },
  {
   "cell_type": "code",
   "execution_count": 4,
   "id": "b886f282",
   "metadata": {},
   "outputs": [
    {
     "name": "stdout",
     "output_type": "stream",
     "text": [
      "2\n",
      "1 0 1.2 7\n",
      "[[1.  0. ]\n",
      " [1.2 7. ]]\n"
     ]
    }
   ],
   "source": [
    "row = int(input())\n",
    "arr = np.array([float(i) for i in input().split()])\n",
    "\n",
    "print(arr.reshape((row), int(arr.size / row)))"
   ]
  },
  {
   "cell_type": "code",
   "execution_count": null,
   "id": "1c146360",
   "metadata": {},
   "outputs": [],
   "source": []
  }
 ],
 "metadata": {
  "kernelspec": {
   "display_name": "Python 3 (ipykernel)",
   "language": "python",
   "name": "python3"
  },
  "language_info": {
   "codemirror_mode": {
    "name": "ipython",
    "version": 3
   },
   "file_extension": ".py",
   "mimetype": "text/x-python",
   "name": "python",
   "nbconvert_exporter": "python",
   "pygments_lexer": "ipython3",
   "version": "3.10.5"
  }
 },
 "nbformat": 4,
 "nbformat_minor": 5
}
